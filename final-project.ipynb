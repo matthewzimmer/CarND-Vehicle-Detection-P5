{
 "cells": [
  {
   "cell_type": "markdown",
   "metadata": {},
   "source": [
    "## Project 5 - Vehicle Detection and Tracking\n",
    "\n",
    "##### By Matthew Zimmer - Future Self-Driving Car Engineer\n",
    "\n",
    "[GitHub](https://github.com/matthewzimmer) | [LinkedIn](https://www.linkedin.com/in/matthewazimmer)\n",
    "\n",
    "---\n",
    "\n",
    "**Vehicle Detection Project**\n",
    "\n",
    "The goals / steps of this project are the following:\n",
    "\n",
    "* Perform a Histogram of Oriented Gradients (HOG) feature extraction on a labeled training set of images and train a classifier Linear SVM classifier\n",
    "* Optionally, you can also apply a color transform and append binned color features, as well as histograms of color, to your HOG feature vector. \n",
    "* Note: for those first two steps don't forget to normalize your features and randomize a selection for training and testing.\n",
    "* Implement a sliding-window technique and use your trained classifier to search for vehicles in images.\n",
    "* Run your pipeline on a video stream (start with the test_video.mp4 and later implement on full project_video.mp4) and create a heat map of recurring detections frame by frame to reject outliers and follow detected vehicles.\n",
    "* Estimate a bounding box for vehicles detected.\n",
    "\n",
    "[//]: # (Image References)\n",
    "[image1]: ./examples/car_not_car.png\n",
    "[image2]: ./examples/HOG_example.jpg\n",
    "[image3]: ./examples/sliding_windows.jpg\n",
    "[image4]: ./examples/sliding_window.jpg\n",
    "[image5]: ./examples/bboxes_and_heat.png\n",
    "[image6]: ./examples/labels_map.png\n",
    "[image7]: ./examples/output_bboxes.png\n",
    "[video1]: ./project_video.mp4\n",
    "\n",
    "## [Rubric](https://review.udacity.com/#!/rubrics/513/view) Points\n",
    "\n",
    "### Here I will consider the rubric points individually and describe how I addressed each point in my implementation."
   ]
  },
  {
   "cell_type": "markdown",
   "metadata": {},
   "source": [
    "---\n",
    "\n",
    "### Writeup / README\n",
    "\n",
    "#### 1. Provide a Writeup / README that includes all the rubric points and how you addressed each one.  You can submit your writeup as markdown or pdf.  [Here](https://github.com/udacity/CarND-Vehicle-Detection/blob/master/writeup_template.md) is a template writeup for this project you can use as a guide and a starting point.  \n",
    "\n",
    "You're reading it!\n",
    "\n",
    "> **CRITICAL NOTE** I treated this notebook as a comprehensive tutorial walking you from start to finish, top down, starting from calibrating the camera all the way to the very last step of drawing the detected lane region into the road. The very last cell of this notebook offers you the ability to control the hyper parameters used by my pipeline and either test them on a single image (the default setting) or test the sample the entire video."
   ]
  },
  {
   "cell_type": "markdown",
   "metadata": {},
   "source": [
    "---\n",
    "\n",
    "#### Python imports"
   ]
  },
  {
   "cell_type": "code",
   "execution_count": 1,
   "metadata": {
    "collapsed": false
   },
   "outputs": [],
   "source": [
    "import numpy as np\n",
    "import cv2\n",
    "import glob\n",
    "import os\n",
    "import pickle\n",
    "\n",
    "import matplotlib\n",
    "matplotlib.use('qt5agg')\n",
    "import matplotlib.pyplot as plt\n",
    "import matplotlib.image as mpimg\n",
    "%matplotlib inline\n",
    "\n",
    "from vehicle_detection_ops import *\n",
    "from lane_detection_ops import *\n",
    "\n",
    "from IPython.core.display import Image, display\n",
    "from IPython.display import YouTubeVideo\n",
    "def render_youtube_video(video_id, width=880, height=495):\n",
    "    return YouTubeVideo(video_id, width=width, height=height)"
   ]
  },
  {
   "cell_type": "markdown",
   "metadata": {},
   "source": [
    "---\n",
    "\n",
    "#### Pipeline Operations\n",
    "\n",
    "> **NOTE** Unless you absolutely want/need to check my code, you can totally skip over the next cell as it contains all of my classes used below.\n",
    "\n",
    "Pipeline operations are the principle driving force for this project. Each implementation of `PipelineOp` is a modular, reusable algorithm which, in its most basic form, performs a single operation on an image.\n",
    "\n",
    "`PipelineOp` has a simple interface with only 2 steps to satisfy the contract:\n",
    "\n",
    "1. Declare a constructor with inputs necessary to perform the operation in `#perform`.\n",
    "\n",
    "2. Implement `#perform`\n",
    "\n",
    "    * Your implementeation must return `self`. This provides support to perform the op and immediately assign the call to `#output` to local variables.\n",
    "\n",
    "    * Declared your op's output by calling `#_apply_output` once you've performed your operation.\n",
    "    \n",
    "The architecture does provide flexibility for you to implement more complicated algorithms that have many moving parts while still adhering to the contract by producing a single arbitrary output object (e.g., Dictionary, Image, Array). I have a health mixture of both simple and complex PipelineOp implementations in this project."
   ]
  },
  {
   "cell_type": "code",
   "execution_count": null,
   "metadata": {
    "collapsed": false
   },
   "outputs": [],
   "source": []
  },
  {
   "cell_type": "markdown",
   "metadata": {},
   "source": [
    "---\n",
    "\n",
    "### Camera Calibration\n",
    "\n",
    "#### 1. Briefly state how you computed the camera matrix and distortion coefficients. Provide an example of a distortion corrected calibration image.\n",
    "\n",
    "My entire camera calibration algorithm may be found inside of **CameraCalibrationOp#perform**. I've also exposed the **#undistort** method which will undistort any raw image (ideally images taken by that camera but no code was put in place to validate camera source of image though EXIF data would be perfect place to look first).\n",
    "\n",
    "I start by preparing \"object points\", which will be the (x, y, z) coordinates of the chessboard corners in the world. Here I am assuming the chessboard is fixed on the (x, y) plane at z=0, such that the object points are the same for each calibration image.  Thus, `objp` is just a replicated array of coordinates, and `objpoints` will be appended with a copy of it every time I successfully detect all chessboard corners in a test image.  `imgpoints` will be appended with the (x, y) pixel position of each of the corners in the image plane with each successful chessboard detection.  \n",
    "\n",
    "I then used the output `objpoints` and `imgpoints` to compute the camera calibration and distortion coefficients using the `cv2.calibrateCamera()` function.  I applied this distortion correction to the test image using the `cv2.undistort()` function and obtained this result: \n",
    "\n",
    "![calibration1.jpg](camera_cal/undistorted/calibration1.jpg)"
   ]
  },
  {
   "cell_type": "code",
   "execution_count": 2,
   "metadata": {
    "collapsed": false
   },
   "outputs": [
    {
     "ename": "NameError",
     "evalue": "name 'CameraCalibrationOp' is not defined",
     "output_type": "error",
     "traceback": [
      "\u001b[0;31m---------------------------------------------------------------------------\u001b[0m",
      "\u001b[0;31mNameError\u001b[0m                                 Traceback (most recent call last)",
      "\u001b[0;32m<ipython-input-2-29b8e1d005c5>\u001b[0m in \u001b[0;36m<module>\u001b[0;34m()\u001b[0m\n\u001b[1;32m      5\u001b[0m \u001b[0;31m# into my pipeline principally used to undistort the\u001b[0m\u001b[0;34m\u001b[0m\u001b[0;34m\u001b[0m\u001b[0m\n\u001b[1;32m      6\u001b[0m \u001b[0;31m# raw image.\u001b[0m\u001b[0;34m\u001b[0m\u001b[0;34m\u001b[0m\u001b[0m\n\u001b[0;32m----> 7\u001b[0;31m calibration_op = CameraCalibrationOp(\n\u001b[0m\u001b[1;32m      8\u001b[0m     \u001b[0mcalibration_images\u001b[0m\u001b[0;34m=\u001b[0m\u001b[0mcalibration_images\u001b[0m\u001b[0;34m,\u001b[0m\u001b[0;34m\u001b[0m\u001b[0m\n\u001b[1;32m      9\u001b[0m     \u001b[0mx_inside_corners\u001b[0m\u001b[0;34m=\u001b[0m\u001b[0;36m9\u001b[0m\u001b[0;34m,\u001b[0m\u001b[0;34m\u001b[0m\u001b[0m\n",
      "\u001b[0;31mNameError\u001b[0m: name 'CameraCalibrationOp' is not defined"
     ]
    }
   ],
   "source": [
    "# base edges - doesn't work for all images in camera_cal directory (i.e., 1, 4, 5)\n",
    "calibration_images=glob.glob('camera_cal/calibration*.jpg')\n",
    "\n",
    "# I will now inject this calibration_op instance later on \n",
    "# into my pipeline principally used to undistort the \n",
    "# raw image.\n",
    "calibration_op = CameraCalibrationOp(\n",
    "    calibration_images=calibration_images, \n",
    "    x_inside_corners=9, \n",
    "    y_inside_corners=6\n",
    ").perform()"
   ]
  },
  {
   "cell_type": "markdown",
   "metadata": {},
   "source": [
    "---\n",
    "\n",
    "### Histogram of Oriented Gradients (HOG)\n",
    "\n",
    "#### 1. Explain how (and identify where in your code) you extracted HOG features from the training images.\n",
    "\n",
    "The code for all steps from here on out is contained in the **Pipeline Operations** code cell at the beginning of the IPython notebook.\n",
    "\n",
    "I started by reading in all the `vehicle` and `non-vehicle` images.  Here is an example of one of each of the `vehicle` and `non-vehicle` classes:\n",
    "\n",
    "![alt text][image1]"
   ]
  },
  {
   "cell_type": "code",
   "execution_count": null,
   "metadata": {
    "collapsed": false
   },
   "outputs": [],
   "source": [
    "# class CarsNotCarsDatasetOp(PipelineOp):\n",
    "#     def __init__(self):\n",
    "#         PipelineOp.__init__(self)\n",
    "#         self.__cars = []\n",
    "#         self.__notcars = []\n",
    "    \n",
    "#     def perform(self):\n",
    "#         cars, notcars = self.__load_dataset()\n",
    "#         return self._apply_output({'cars': cars, 'notcars': notcars})\n",
    "    \n",
    "#     def cars(self):\n",
    "#         return self.output()['cars']\n",
    "    \n",
    "#     def notcars(self):\n",
    "#         return self.output()['notcars']\n",
    "    \n",
    "#     def __load_dataset(self):\n",
    "#         cars = self.__cars\n",
    "#         notcars = self.__notcars\n",
    "        \n",
    "#         if len(cars) <= 0:\n",
    "#             # Read in cars and notcars\n",
    "#             images = glob.glob('notes/hog_images/**/*.jpeg')\n",
    "\n",
    "#             for image in images:\n",
    "#                 image_name = os.path.basename(image)\n",
    "#                 if 'image' in image_name or 'extra' in image_name:\n",
    "#                     notcars.append(image)\n",
    "#                 else:\n",
    "#                     cars.append(image)\n",
    "#             self.__cars = cars\n",
    "#             self.__notcars = notcars\n",
    "        \n",
    "#         return cars, notcars\n",
    "\n",
    "ds = CarsNotCarsDatasetOp().perform()\n",
    "cars = ds.cars()\n",
    "notcars = ds.not_cars()\n",
    "\n",
    "print('    # Cars: ' + str(len(cars)))\n",
    "print('# Not cars: ' + str(len(notcars)))"
   ]
  },
  {
   "cell_type": "markdown",
   "metadata": {},
   "source": [
    "Here is an example of one of each of the `vehicle` and `non-vehicle` classes:"
   ]
  },
  {
   "cell_type": "code",
   "execution_count": null,
   "metadata": {
    "collapsed": false
   },
   "outputs": [],
   "source": [
    "# PlotImageOp(mpimg.imread(cars[0]), title=\"{} - CAR\".format(cars[0])).perform()\n",
    "plt.title(\"CAR - \"+cars[0])\n",
    "plt.imshow(mpimg.imread(cars[0]))\n",
    "plt.show()\n",
    "plt.title(\"NOTCAR - \"+notcars[0])\n",
    "plt.imshow(mpimg.imread(notcars[0]))\n",
    "plt.show()"
   ]
  },
  {
   "cell_type": "markdown",
   "metadata": {},
   "source": [
    "I then explored different color spaces and different `skimage.hog()` parameters (`orientations`, `pixels_per_cell`, and `cells_per_block`).  I grabbed random images from each of the two classes and displayed them to get a feel for what the `skimage.hog()` output looks like.\n",
    "\n",
    "Here is an example using the `YCrCb` color space and HOG parameters of `orientations=8`, `pixels_per_cell=(8, 8)` and `cells_per_block=(2, 2)`:\n",
    "\n",
    "\n",
    "![alt text][image2]"
   ]
  },
  {
   "cell_type": "markdown",
   "metadata": {},
   "source": [
    "#### 2. Explain how you settled on your final choice of HOG parameters.\n",
    "\n",
    "I tried various combinations of parameters and..."
   ]
  },
  {
   "cell_type": "code",
   "execution_count": null,
   "metadata": {
    "collapsed": true
   },
   "outputs": [],
   "source": []
  },
  {
   "cell_type": "markdown",
   "metadata": {},
   "source": [
    "#### 3. Describe how (and identify where in your code) you trained a classifier using your selected HOG features (and color features if you used them).\n",
    "\n",
    "I trained a linear SVM using..."
   ]
  },
  {
   "cell_type": "code",
   "execution_count": null,
   "metadata": {
    "collapsed": true
   },
   "outputs": [],
   "source": []
  },
  {
   "cell_type": "markdown",
   "metadata": {},
   "source": [
    "---\n",
    "\n",
    "### Sliding Window Search\n",
    "\n",
    "#### 1. Describe how (and identify where in your code) you implemented a sliding window search.  How did you decide what scales to search and how much to overlap windows?\n",
    "\n",
    "I decided to search random window positions at random scales all over the image and came up with this (ok just kidding I didn't actually ;):\n",
    "\n",
    "![alt text][image3]"
   ]
  },
  {
   "cell_type": "code",
   "execution_count": null,
   "metadata": {
    "collapsed": true
   },
   "outputs": [],
   "source": []
  },
  {
   "cell_type": "markdown",
   "metadata": {},
   "source": [
    "#### 2. Show some examples of test images to demonstrate how your pipeline is working.  What did you do to optimize the performance of your classifier?\n",
    "\n",
    "Ultimately I searched on two scales using YCrCb 3-channel HOG features plus spatially binned color and histograms of color in the feature vector, which provided a nice result.  Here are some example images:\n",
    "\n",
    "![alt text][image4]"
   ]
  },
  {
   "cell_type": "code",
   "execution_count": null,
   "metadata": {
    "collapsed": true
   },
   "outputs": [],
   "source": []
  },
  {
   "cell_type": "markdown",
   "metadata": {
    "collapsed": true
   },
   "source": [
    "---\n",
    "\n",
    "### Video Implementation\n",
    "\n",
    "#### 1. Provide a link to your final video output.  Your pipeline should perform reasonably well on the entire project video (somewhat wobbly or unstable bounding boxes are ok as long as you are identifying the vehicles most of the time with minimal false positives.)\n",
    "\n",
    "Here's a [link to my video result](./project_video.mp4)"
   ]
  },
  {
   "cell_type": "code",
   "execution_count": null,
   "metadata": {
    "collapsed": true
   },
   "outputs": [],
   "source": [
    "# Import everything needed to edit/save/watch video clips\n",
    "from moviepy.editor import VideoFileClip\n",
    "\n",
    "from pipeline_ops.lane_detection import CameraCalibrationOp, LaneDetectionOp\n",
    "\n",
    "class PipelineRunner:\n",
    "    def __init__(self, calibration_op, color_space='HSV', color_channel=2):\n",
    "        self.current_frame = 0\n",
    "        self.__processed_images_subdir = ''\n",
    "        self.lane_assist_op = LaneDetectionOp(\n",
    "            calibration_op,\n",
    "            margin=100,\n",
    "            kernel_size=15,\n",
    "            sobelx_thresh=(20,100),\n",
    "            sobely_thresh=(20,100),\n",
    "            mag_grad_thresh=(20,250),\n",
    "            dir_grad_thresh=(0.3, 1.3),\n",
    "            color_space=color_space,\n",
    "            color_channel=color_channel\n",
    "        )\n",
    "\n",
    "    def process_video(self, src_video_path, dst_video_path, audio=False):\n",
    "        self.current_frame = 0\n",
    "        self.__processed_images_subdir = os.path.basename(src_video_path).split('.')[0]+'/'\n",
    "        VideoFileClip(src_video_path).fl_image(self.process_image).write_videofile(dst_video_path, audio=audio)\n",
    "\n",
    "    def process_image(self, image):\n",
    "        self.current_frame += 1\n",
    "        #cv2.imwrite('processed_images/{}{}_0_in_frame.jpg'.format(self.__processed_images_subdir, self.current_frame), cv2.cvtColor(image, cv2.COLOR_RGB2BGR))\n",
    "        \n",
    "        result = self.lane_assist_op.process_image(\n",
    "            image,\n",
    "            '{}{}'.format(self.__processed_images_subdir, self.current_frame)\n",
    "        ).output()\n",
    "\n",
    "        return result\n",
    "\n",
    "# See how well my pipeline performs against all .jpg images inside test_images directory\n",
    "if True:\n",
    "    images = glob.glob('test_images/*.jpg')\n",
    "    for img_path in images:\n",
    "        result = PipelineRunner(calibration_op, color_space='HSV', color_channel=2).process_image(mpimg.imread(img_path))\n",
    "        PlotImageOp(result, title=\"{} - FINAL\".format(img_path)).perform()\n",
    "\n",
    "# Run pipeline against the main project_video.mp4\n",
    "if False:\n",
    "    PipelineRunner(calibration_op, color_space='HSV', color_channel=2).process_video('project_video.mp4', 'project_video_final.mp4')\n",
    "\n",
    "# Run pipeline against the challenge_video.mp4\n",
    "if False:\n",
    "    PipelineRunner(calibration_op, color_space='HSV', color_channel=2).process_video('challenge_video.mp4', 'challenge_video_final.mp4')"
   ]
  },
  {
   "cell_type": "markdown",
   "metadata": {},
   "source": [
    "#### 2. Describe how (and identify where in your code) you implemented some kind of filter for false positives and some method for combining overlapping bounding boxes.\n",
    "\n",
    "I recorded the positions of positive detections in each frame of the video.  From the positive detections I created a heatmap and then thresholded that map to identify vehicle positions.  I then used `scipy.ndimage.measurements.label()` to identify individual blobs in the heatmap.  I then assumed each blob corresponded to a vehicle.  I constructed bounding boxes to cover the area of each blob detected.  \n",
    "\n",
    "Here's an example result showing the heatmap from a series of frames of video, the result of `scipy.ndimage.measurements.label()` and the bounding boxes then overlaid on the last frame of video:"
   ]
  },
  {
   "cell_type": "code",
   "execution_count": null,
   "metadata": {
    "collapsed": true
   },
   "outputs": [],
   "source": []
  },
  {
   "cell_type": "markdown",
   "metadata": {},
   "source": [
    "### Here are six frames and their corresponding heatmaps:\n",
    "\n",
    "![alt text][image5]"
   ]
  },
  {
   "cell_type": "code",
   "execution_count": null,
   "metadata": {
    "collapsed": true
   },
   "outputs": [],
   "source": []
  },
  {
   "cell_type": "markdown",
   "metadata": {},
   "source": [
    "### Here is the output of `scipy.ndimage.measurements.label()` on the integrated heatmap from all six frames:\n",
    "![alt text][image6]"
   ]
  },
  {
   "cell_type": "code",
   "execution_count": null,
   "metadata": {
    "collapsed": true
   },
   "outputs": [],
   "source": []
  },
  {
   "cell_type": "markdown",
   "metadata": {},
   "source": [
    "### Here the resulting bounding boxes are drawn onto the last frame in the series:\n",
    "![alt text][image7]"
   ]
  },
  {
   "cell_type": "code",
   "execution_count": null,
   "metadata": {
    "collapsed": true
   },
   "outputs": [],
   "source": []
  },
  {
   "cell_type": "markdown",
   "metadata": {},
   "source": [
    "---\n",
    "\n",
    "### Discussion\n",
    "\n",
    "#### 1. Briefly discuss any problems / issues you faced in your implementation of this project.  Where will your pipeline likely fail?  What could you do to make it more robust?\n",
    "\n",
    "Here I'll talk about the approach I took, what techniques I used, what worked and why, where the pipeline might fail and how I might improve it if I were going to pursue this project further. "
   ]
  },
  {
   "cell_type": "markdown",
   "metadata": {},
   "source": []
  }
 ],
 "metadata": {
  "anaconda-cloud": {},
  "kernelspec": {
   "display_name": "Python [conda env:carnd]",
   "language": "python",
   "name": "conda-env-carnd-py"
  },
  "language_info": {
   "codemirror_mode": {
    "name": "ipython",
    "version": 3
   },
   "file_extension": ".py",
   "mimetype": "text/x-python",
   "name": "python",
   "nbconvert_exporter": "python",
   "pygments_lexer": "ipython3",
   "version": "3.5.2"
  }
 },
 "nbformat": 4,
 "nbformat_minor": 0
}
